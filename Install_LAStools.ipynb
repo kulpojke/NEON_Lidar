{
 "cells": [
  {
   "cell_type": "markdown",
   "metadata": {},
   "source": [
    "## Install LAStools ##"
   ]
  },
  {
   "cell_type": "code",
   "execution_count": 1,
   "metadata": {},
   "outputs": [
    {
     "name": "stdout",
     "output_type": "stream",
     "text": [
      "--2021-02-15 21:24:50--  http://lastools.github.io/download/LAStools.zip\n",
      "Resolving lastools.github.io (lastools.github.io)... 185.199.108.153, 185.199.111.153, 185.199.110.153, ...\n",
      "Connecting to lastools.github.io (lastools.github.io)|185.199.108.153|:80... connected.\n",
      "HTTP request sent, awaiting response... 301 Moved Permanently\n",
      "Location: https://lastools.github.io/download/LAStools.zip [following]\n",
      "--2021-02-15 21:24:50--  https://lastools.github.io/download/LAStools.zip\n",
      "Connecting to lastools.github.io (lastools.github.io)|185.199.108.153|:443... connected.\n",
      "HTTP request sent, awaiting response... 200 OK\n",
      "Length: 62342097 (59M) [application/zip]\n",
      "Saving to: ‘LAStools.zip’\n",
      "\n",
      "LAStools.zip        100%[===================>]  59.45M  58.9MB/s    in 1.0s    \n",
      "\n",
      "2021-02-15 21:24:52 (58.9 MB/s) - ‘LAStools.zip’ saved [62342097/62342097]\n",
      "\n"
     ]
    }
   ],
   "source": [
    "!wget http://lastools.github.io/download/LAStools.zip\n"
   ]
  },
  {
   "cell_type": "code",
   "execution_count": 3,
   "metadata": {},
   "outputs": [],
   "source": [
    "!unzip LAStools.zip"
   ]
  },
  {
   "cell_type": "code",
   "execution_count": 16,
   "metadata": {},
   "outputs": [
    {
     "name": "stdout",
     "output_type": "stream",
     "text": [
      "ArcGIS_toolbox\tdata\t\t       LASlib\t     QGIS_toolbox\n",
      "bin\t\texample_batch_scripts  lastools.dsw  README.txt\n",
      "CHANGES.txt\tHALL_OF_BLAME.txt      LASzip\t     src\n",
      "CMakeLists.txt\tHALL_OF_SHAME.txt      LICENSE.txt\n",
      "COPYING.txt\tIMAGINE_toolbox        Makefile\n"
     ]
    }
   ],
   "source": [
    "!ls /home/jovyan/LAStools"
   ]
  },
  {
   "cell_type": "markdown",
   "metadata": {},
   "source": [
    "```!cd /home/jovyan/LAStools & make``` is not working here, so I did it in a seperate temrinal."
   ]
  },
  {
   "cell_type": "markdown",
   "metadata": {},
   "source": [
    "## Download laz tiles ##"
   ]
  },
  {
   "cell_type": "code",
   "execution_count": 5,
   "metadata": {},
   "outputs": [],
   "source": [
    "from API_utils import *\n",
    "from dask import delayed, compute\n",
    "from dask.diagnostics import ProgressBar"
   ]
  },
  {
   "cell_type": "code",
   "execution_count": 4,
   "metadata": {},
   "outputs": [],
   "source": [
    "site = 'TEAK'\n",
    "productcode = 'DP1.30003.001'\n",
    "data_path = '/home/jovyan/tmp'\n",
    "date = '2018-06'\n",
    "os.makedirs(data_path, exist_ok=True)"
   ]
  },
  {
   "cell_type": "code",
   "execution_count": 8,
   "metadata": {},
   "outputs": [
    {
     "name": "stdout",
     "output_type": "stream",
     "text": [
      "[########################################] | 100% Completed |  2min  2.0s\n"
     ]
    }
   ],
   "source": [
    "t0, laz = generate_laz_download_info(productcode, site, date)\n",
    "\n",
    "results = []\n",
    "for f in laz:\n",
    "    results.append(delayed(download_from_NEON_API)(f, data_path))\n",
    "    \n",
    "with ProgressBar():\n",
    "    computed = compute(*results)"
   ]
  },
  {
   "cell_type": "markdown",
   "metadata": {},
   "source": [
    "## Use LAStile ##"
   ]
  },
  {
   "cell_type": "code",
   "execution_count": 9,
   "metadata": {},
   "outputs": [],
   "source": [
    "!cd LAStools/bin"
   ]
  },
  {
   "cell_type": "code",
   "execution_count": 18,
   "metadata": {},
   "outputs": [
    {
     "name": "stdout",
     "output_type": "stream",
     "text": [
      "/bin/bash: lastile: command not found\n"
     ]
    }
   ],
   "source": [
    "!lastile -full_bb -i /home/jovyan/tmp/*.las -o /home/jovyan/tmp/NEON_D17_TEAK_DP1_classified_point_cloud_colorized_mosaic.laz "
   ]
  },
  {
   "cell_type": "code",
   "execution_count": null,
   "metadata": {},
   "outputs": [],
   "source": []
  }
 ],
 "metadata": {
  "kernelspec": {
   "display_name": "Python 3",
   "language": "python",
   "name": "python3"
  },
  "language_info": {
   "codemirror_mode": {
    "name": "ipython",
    "version": 3
   },
   "file_extension": ".py",
   "mimetype": "text/x-python",
   "name": "python",
   "nbconvert_exporter": "python",
   "pygments_lexer": "ipython3",
   "version": "3.8.6"
  }
 },
 "nbformat": 4,
 "nbformat_minor": 4
}

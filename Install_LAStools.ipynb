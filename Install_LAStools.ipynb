{
 "cells": [
  {
   "cell_type": "code",
   "execution_count": 1,
   "metadata": {},
   "outputs": [
    {
     "name": "stdout",
     "output_type": "stream",
     "text": [
      "--2021-02-15 21:24:50--  http://lastools.github.io/download/LAStools.zip\n",
      "Resolving lastools.github.io (lastools.github.io)... 185.199.108.153, 185.199.111.153, 185.199.110.153, ...\n",
      "Connecting to lastools.github.io (lastools.github.io)|185.199.108.153|:80... connected.\n",
      "HTTP request sent, awaiting response... 301 Moved Permanently\n",
      "Location: https://lastools.github.io/download/LAStools.zip [following]\n",
      "--2021-02-15 21:24:50--  https://lastools.github.io/download/LAStools.zip\n",
      "Connecting to lastools.github.io (lastools.github.io)|185.199.108.153|:443... connected.\n",
      "HTTP request sent, awaiting response... 200 OK\n",
      "Length: 62342097 (59M) [application/zip]\n",
      "Saving to: ‘LAStools.zip’\n",
      "\n",
      "LAStools.zip        100%[===================>]  59.45M  58.9MB/s    in 1.0s    \n",
      "\n",
      "2021-02-15 21:24:52 (58.9 MB/s) - ‘LAStools.zip’ saved [62342097/62342097]\n",
      "\n"
     ]
    }
   ],
   "source": [
    "!wget http://lastools.github.io/download/LAStools.zip\n"
   ]
  },
  {
   "cell_type": "code",
   "execution_count": 3,
   "metadata": {},
   "outputs": [],
   "source": [
    "!unzip LAStools.zip"
   ]
  },
  {
   "cell_type": "code",
   "execution_count": 4,
   "metadata": {},
   "outputs": [],
   "source": [
    "!mv LAStools ~"
   ]
  },
  {
   "cell_type": "code",
   "execution_count": null,
   "metadata": {},
   "outputs": [],
   "source": []
  }
 ],
 "metadata": {
  "kernelspec": {
   "display_name": "Python 3",
   "language": "python",
   "name": "python3"
  },
  "language_info": {
   "codemirror_mode": {
    "name": "ipython",
    "version": 3
   },
   "file_extension": ".py",
   "mimetype": "text/x-python",
   "name": "python",
   "nbconvert_exporter": "python",
   "pygments_lexer": "ipython3",
   "version": "3.8.6"
  }
 },
 "nbformat": 4,
 "nbformat_minor": 4
}

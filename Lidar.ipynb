{
 "cells": [
  {
   "cell_type": "code",
   "execution_count": 1,
   "metadata": {},
   "outputs": [],
   "source": [
    "from API_utils import fetch_from_API, show_dates, show_files_for_site_date\n",
    "import os\n",
    "import numpy as np"
   ]
  },
  {
   "cell_type": "markdown",
   "metadata": {},
   "source": [
    "For now we will just do TEAKs oldest Lidar flight"
   ]
  },
  {
   "cell_type": "code",
   "execution_count": 2,
   "metadata": {},
   "outputs": [],
   "source": [
    "site = 'TEAK'\n",
    "productcode = 'DP1.30003.001'\n",
    "data_path = '/home/jovyan/tmp'\n",
    "\n",
    "os.makedirs(data_path, exist_ok=True)\n",
    "\n",
    "#show_dates(site, productcode)\n"
   ]
  },
  {
   "cell_type": "code",
   "execution_count": 6,
   "metadata": {},
   "outputs": [],
   "source": [
    "files = show_files_for_site_date(productcode, site, '2018-06')\n",
    "laz = []\n",
    "for file in files:\n",
    "    if 'full_boundary.kml' in file['name']:\n",
    "        boundaries = file\n",
    "    if 'classified_point_cloud_colorized.laz' in file['name']:\n",
    "        laz.append(file)"
   ]
  },
  {
   "cell_type": "code",
   "execution_count": 9,
   "metadata": {},
   "outputs": [],
   "source": [
    "import requests\n",
    "import hashlib\n",
    "\n",
    "\n",
    "def download_from_NEON_API(f, data_path):\n",
    "\n",
    "    attempts = 0 \n",
    "    while attempts < 4:\n",
    "        try:\n",
    "            # get the file \n",
    "            handle = requests.get(f['url'])\n",
    "            \n",
    "            #check the md5 if it exists\n",
    "            if f['md5']:\n",
    "                md5 = hashlib.md5(handle.content).hexdigest()\n",
    "                if md5 == f['md5']:\n",
    "                    success = True\n",
    "                    attempts = 4\n",
    "                else:\n",
    "                    fmd5 = f['md5']\n",
    "                    print(f'md5 mismatch on attempt {attempts}')\n",
    "                    success = False\n",
    "                    attempts = attempts + 1\n",
    "            else: \n",
    "                success = True\n",
    "                attempts = 4\n",
    "        except Exception as e:\n",
    "            print(f'Warning:\\n{e}')\n",
    "            success = False\n",
    "            attempts = attempts + 1\n",
    "    # write the file\n",
    "    if success:\n",
    "        fname = os.path.join(data_path, f['name'])\n",
    "        with open(fname, 'wb') as sink:\n",
    "            sink.write(handle.content)\n",
    "    else:\n",
    "        raise Exception('failed to download')"
   ]
  },
  {
   "cell_type": "code",
   "execution_count": 10,
   "metadata": {},
   "outputs": [],
   "source": [
    "download_from_NEON_API(boundaries, data_path)"
   ]
  },
  {
   "cell_type": "code",
   "execution_count": 12,
   "metadata": {},
   "outputs": [
    {
     "name": "stdout",
     "output_type": "stream",
     "text": [
      "[########################################] | 100% Completed |  1min 51.3s\n"
     ]
    }
   ],
   "source": [
    "from dask import delayed, compute\n",
    "from dask.diagnostics import ProgressBar\n",
    "\n",
    "results = []\n",
    "for f in laz:\n",
    "    results.append(delayed(download_from_NEON_API)(f, data_path))\n",
    "\n",
    "with ProgressBar():\n",
    "    computed = compute(*results)"
   ]
  },
  {
   "cell_type": "markdown",
   "metadata": {},
   "source": [
    "We need to isntall pdal to process the laz files"
   ]
  },
  {
   "cell_type": "code",
   "execution_count": 13,
   "metadata": {},
   "outputs": [
    {
     "name": "stdout",
     "output_type": "stream",
     "text": [
      "Collecting pdal\n",
      "  Downloading PDAL-2.3.7.tar.gz (945 kB)\n",
      "\u001b[K     |████████████████████████████████| 945 kB 5.7 MB/s eta 0:00:01\n",
      "\u001b[?25h  Installing build dependencies ... \u001b[?25ldone\n",
      "\u001b[?25h  Getting requirements to build wheel ... \u001b[?25ldone\n",
      "\u001b[?25h    Preparing wheel metadata ... \u001b[?25ldone\n",
      "\u001b[?25hBuilding wheels for collected packages: pdal\n",
      "  Building wheel for pdal (PEP 517) ... \u001b[?25ldone\n",
      "\u001b[?25h  Created wheel for pdal: filename=PDAL-2.3.7-cp38-cp38-linux_x86_64.whl size=325486 sha256=2e225a46bde0ed759e430815fdb3227bcbe0c6843c05239109c10494f0a8486d\n",
      "  Stored in directory: /home/jovyan/.cache/pip/wheels/49/48/b4/3f9a021e4d674d9aa44dd61989d53d3add21ad6d69b288235a\n",
      "Successfully built pdal\n",
      "Installing collected packages: pdal\n",
      "Successfully installed pdal-2.3.7\n"
     ]
    }
   ],
   "source": [
    "!pip install pdal"
   ]
  },
  {
   "cell_type": "code",
   "execution_count": 14,
   "metadata": {},
   "outputs": [
    {
     "ename": "ValueError",
     "evalue": "numpy.ndarray size changed, may indicate binary incompatibility. Expected 88 from C header, got 80 from PyObject",
     "output_type": "error",
     "traceback": [
      "\u001b[0;31m---------------------------------------------------------------------------\u001b[0m",
      "\u001b[0;31mValueError\u001b[0m                                Traceback (most recent call last)",
      "\u001b[0;32m<ipython-input-14-3ef3d679e24d>\u001b[0m in \u001b[0;36m<module>\u001b[0;34m\u001b[0m\n\u001b[0;32m----> 1\u001b[0;31m \u001b[0;32mimport\u001b[0m \u001b[0mpdal\u001b[0m\u001b[0;34m\u001b[0m\u001b[0;34m\u001b[0m\u001b[0m\n\u001b[0m",
      "\u001b[0;32m/opt/conda/lib/python3.8/site-packages/pdal/__init__.py\u001b[0m in \u001b[0;36m<module>\u001b[0;34m\u001b[0m\n\u001b[1;32m      1\u001b[0m \u001b[0m__version__\u001b[0m\u001b[0;34m=\u001b[0m\u001b[0;34m'2.3.7'\u001b[0m\u001b[0;34m\u001b[0m\u001b[0;34m\u001b[0m\u001b[0m\n\u001b[1;32m      2\u001b[0m \u001b[0;34m\u001b[0m\u001b[0m\n\u001b[0;32m----> 3\u001b[0;31m \u001b[0;32mfrom\u001b[0m \u001b[0;34m.\u001b[0m\u001b[0mpipeline\u001b[0m \u001b[0;32mimport\u001b[0m \u001b[0mPipeline\u001b[0m\u001b[0;34m\u001b[0m\u001b[0;34m\u001b[0m\u001b[0m\n\u001b[0m\u001b[1;32m      4\u001b[0m \u001b[0;32mfrom\u001b[0m \u001b[0;34m.\u001b[0m\u001b[0marray\u001b[0m \u001b[0;32mimport\u001b[0m \u001b[0mArray\u001b[0m\u001b[0;34m\u001b[0m\u001b[0;34m\u001b[0m\u001b[0m\n\u001b[1;32m      5\u001b[0m \u001b[0;32mfrom\u001b[0m \u001b[0;34m.\u001b[0m\u001b[0mdimension\u001b[0m \u001b[0;32mimport\u001b[0m \u001b[0mdimensions\u001b[0m\u001b[0;34m\u001b[0m\u001b[0;34m\u001b[0m\u001b[0m\n",
      "\u001b[0;32m/opt/conda/lib/python3.8/site-packages/pdal/pipeline.py\u001b[0m in \u001b[0;36m<module>\u001b[0;34m\u001b[0m\n\u001b[1;32m      1\u001b[0m \u001b[0;34m\u001b[0m\u001b[0m\n\u001b[0;32m----> 2\u001b[0;31m \u001b[0;32mfrom\u001b[0m \u001b[0mpdal\u001b[0m \u001b[0;32mimport\u001b[0m \u001b[0mlibpdalpython\u001b[0m\u001b[0;34m\u001b[0m\u001b[0;34m\u001b[0m\u001b[0m\n\u001b[0m\u001b[1;32m      3\u001b[0m \u001b[0;32mimport\u001b[0m \u001b[0mnumpy\u001b[0m \u001b[0;32mas\u001b[0m \u001b[0mnp\u001b[0m\u001b[0;34m\u001b[0m\u001b[0;34m\u001b[0m\u001b[0m\n\u001b[1;32m      4\u001b[0m \u001b[0;34m\u001b[0m\u001b[0m\n\u001b[1;32m      5\u001b[0m \u001b[0;32mclass\u001b[0m \u001b[0mPipeline\u001b[0m\u001b[0;34m(\u001b[0m\u001b[0mobject\u001b[0m\u001b[0;34m)\u001b[0m\u001b[0;34m:\u001b[0m\u001b[0;34m\u001b[0m\u001b[0;34m\u001b[0m\u001b[0m\n",
      "\u001b[0;32mlibpdalpython.pyx\u001b[0m in \u001b[0;36minit pdal.libpdalpython\u001b[0;34m()\u001b[0m\n",
      "\u001b[0;31mValueError\u001b[0m: numpy.ndarray size changed, may indicate binary incompatibility. Expected 88 from C header, got 80 from PyObject"
     ]
    }
   ],
   "source": [
    "import pdal"
   ]
  },
  {
   "cell_type": "code",
   "execution_count": null,
   "metadata": {},
   "outputs": [],
   "source": [
    "def make_pipe(bbox, chm_path, srs='EPSG:3857', threads=4, resolution=1):\n",
    "    '''Creates, validates and then returns the pdal pipeline\n",
    "    \n",
    "    Arguments:\n",
    "    bbox       -- Tuple - Bounding box in srs coordintes (default srs is EPSG:3857),\n",
    "                  in the form: ([xmin, xmax], [ymin, ymax]).\n",
    "    chm_path   -- String - Path where the CHM shall be saved. Must include .tif exstension.\n",
    "    srs        -- String - EPSG identifier for srs  being used. Defaults to EPSG:3857\n",
    "                  because that is what ept files tend to use.\n",
    "    threads    -- Int - Number os threads to be used by the reader.ept. Defaults to 4.\n",
    "    resolution -- Int or Float - resolution (m) used by writers.gdal\n",
    "    '''\n",
    "    \n",
    "    t = Template('''\n",
    "    {\n",
    "        \"pipeline\": [\n",
    "            {\n",
    "            \"bounds\": \"${scaled_bbox}\",\n",
    "            \"filename\": \"https://s3-us-west-2.amazonaws.com/usgs-lidar-public/USGS_LPC_CA_LosAngeles_2016_LAS_2018/ept.json\",\n",
    "            \"type\": \"readers.ept\",\n",
    "            \"tag\": \"readdata\",\n",
    "            \"spatialreference\": \"${srs}\",\n",
    "            \"threads\": \"${threads}\"\n",
    "            },\n",
    "            {\n",
    "            \"type\":\"filters.outlier\",\n",
    "            \"method\":\"radius\",\n",
    "            \"radius\":1.0,\n",
    "            \"min_k\":4\n",
    "            },\n",
    "            {\n",
    "            \"type\":\"filters.range\",\n",
    "            \"limits\":\"returnnumber[1:1]\"\n",
    "            },\n",
    "            {\n",
    "            \"type\": \"filters.reprojection\",\n",
    "            \"in_srs\":\"${srs}\",\n",
    "            \"out_srs\": \"EPSG:26911\"\n",
    "            },\n",
    "            {\n",
    "            \"type\":\"filters.smrf\",\n",
    "            \"scalar\":1.2,\n",
    "            \"slope\":0.2,\n",
    "            \"threshold\":0.45,\n",
    "            \"window\":16.0\n",
    "            },\n",
    "            {\n",
    "            \"type\":\"filters.hag_delaunay\"\n",
    "            },\n",
    "            {\n",
    "            \"type\":\"filters.range\",\n",
    "            \"limits\":\"HeightAboveGround[0:35]\"\n",
    "            },\n",
    "            {\n",
    "            \"filename\": \"${chm_path}\",\n",
    "            \"gdalopts\": \"tiled=yes,     compress=deflate\",\n",
    "            \"nodata\": -9999,\n",
    "            \"output_type\": \"idw\",\n",
    "            \"resolution\": 1,\n",
    "            \"type\": \"writers.gdal\",\n",
    "            \"window_size\": 6,\n",
    "            \"dimension\": \"HeightAboveGround\"\n",
    "            }\n",
    "        ]\n",
    "    }''')\n",
    "\n",
    "    pipe = t.substitute(scaled_bbox=bbox, srs=srs, chm_path=chm_path, threads=threads)\n",
    "    pipeline = pdal.Pipeline(pipe)\n",
    "    if pipeline.validate():\n",
    "        return(pipeline)\n",
    "    else:\n",
    "        raise Exception('Bad pipeline (sorry to be so ambigous)!')"
   ]
  }
 ],
 "metadata": {
  "kernelspec": {
   "display_name": "Python 3",
   "language": "python",
   "name": "python3"
  },
  "language_info": {
   "codemirror_mode": {
    "name": "ipython",
    "version": 3
   },
   "file_extension": ".py",
   "mimetype": "text/x-python",
   "name": "python",
   "nbconvert_exporter": "python",
   "pygments_lexer": "ipython3",
   "version": "3.8.6"
  }
 },
 "nbformat": 4,
 "nbformat_minor": 4
}

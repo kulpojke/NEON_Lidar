{
 "cells": [
  {
   "cell_type": "code",
   "execution_count": 1,
   "metadata": {},
   "outputs": [],
   "source": [
    "## Download laz tiles ##"
   ]
  },
  {
   "cell_type": "code",
   "execution_count": 1,
   "metadata": {},
   "outputs": [
    {
     "data": {
      "text/plain": [
       "16"
      ]
     },
     "execution_count": 1,
     "metadata": {},
     "output_type": "execute_result"
    }
   ],
   "source": [
    "from API_utils import *\n",
    "from dask import delayed, compute\n",
    "from dask.diagnostics import ProgressBar\n",
    "import os\n",
    "import subprocess\n",
    "import multiprocessing\n",
    "import json\n",
    "ncores = multiprocessing.cpu_count()\n",
    "ncores"
   ]
  },
  {
   "cell_type": "code",
   "execution_count": 2,
   "metadata": {},
   "outputs": [],
   "source": [
    "site = 'TEAK'\n",
    "productcode = 'DP1.30003.001'\n",
    "data_path = '/home/jovyan/tmp'\n",
    "date = '2018-06'\n",
    "os.makedirs(data_path, exist_ok=True)"
   ]
  },
  {
   "cell_type": "code",
   "execution_count": 3,
   "metadata": {},
   "outputs": [
    {
     "name": "stdout",
     "output_type": "stream",
     "text": [
      "[########################################] | 100% Completed |  1min 50.6s\n"
     ]
    }
   ],
   "source": [
    "t0, laz = generate_laz_download_info(productcode, site, date)\n",
    "\n",
    "results = []\n",
    "for f in laz:\n",
    "    results.append(delayed(download_from_NEON_API)(f, data_path))\n",
    "    \n",
    "with ProgressBar():\n",
    "    computed = compute(*results)"
   ]
  },
  {
   "cell_type": "markdown",
   "metadata": {},
   "source": [
    "To create an ept we will use entwine.  First we need to make a ```config.json``` to tell entwine the details of what to do.."
   ]
  },
  {
   "cell_type": "code",
   "execution_count": 8,
   "metadata": {},
   "outputs": [],
   "source": [
    "# make  config.json for entwine \n",
    "config = {'input'  : data_path, \n",
    "          'output' : os.path.join(data_path, 'NEON_D17_TEAK_DP1_classified_point_cloud_colorized.ept'),\n",
    "          'srs'    : 'EPSG:26911',\n",
    "          'threads': ncores}\n",
    "\n",
    "with open('config.json', 'w') as dst:\n",
    "    json.dump(config, dst)"
   ]
  },
  {
   "cell_type": "markdown",
   "metadata": {},
   "source": [
    "Then we can call entwine to create the ept (and remove the config.json which w e no longer need)"
   ]
  },
  {
   "cell_type": "code",
   "execution_count": 6,
   "metadata": {},
   "outputs": [],
   "source": [
    "cmd = 'entwine build -c config.json'\n",
    "result = subprocess.run(cmd, shell=True, capture_output=True)\n",
    "\n",
    "os.remove('config.json')\n",
    "result.stderr"
   ]
  },
  {
   "cell_type": "code",
   "execution_count": 7,
   "metadata": {},
   "outputs": [
    {
     "data": {
      "text/plain": [
       "b\"terminate called after throwing an instance of 'nlohmann::detail::type_error'\\n  what():  [json.exception.type_error.305] cannot use operator[] with a string argument with string\\nAborted (core dumped)\\n\""
      ]
     },
     "execution_count": 7,
     "metadata": {},
     "output_type": "execute_result"
    }
   ],
   "source": []
  },
  {
   "cell_type": "code",
   "execution_count": null,
   "metadata": {},
   "outputs": [],
   "source": []
  }
 ],
 "metadata": {
  "kernelspec": {
   "display_name": "Python 3",
   "language": "python",
   "name": "python3"
  },
  "language_info": {
   "codemirror_mode": {
    "name": "ipython",
    "version": 3
   },
   "file_extension": ".py",
   "mimetype": "text/x-python",
   "name": "python",
   "nbconvert_exporter": "python",
   "pygments_lexer": "ipython3",
   "version": "3.8.6"
  }
 },
 "nbformat": 4,
 "nbformat_minor": 4
}

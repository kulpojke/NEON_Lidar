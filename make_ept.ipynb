{
 "cells": [
  {
   "cell_type": "code",
   "execution_count": 38,
   "metadata": {},
   "outputs": [],
   "source": [
    "from API_utils import *\n",
    "from dask import delayed, compute\n",
    "from dask.diagnostics import ProgressBar\n",
    "import subprocess\n",
    "import os\n",
    "import json\n",
    "from dataclasses import dataclass\n"
   ]
  },
  {
   "cell_type": "code",
   "execution_count": 6,
   "metadata": {},
   "outputs": [],
   "source": [
    "site = 'TEAK'\n",
    "productcode = 'DP1.30003.001'\n",
    "data_path = '/home/jovyan/tmp'\n",
    "date = '2018-06'\n",
    "os.makedirs(data_path, exist_ok=True)"
   ]
  },
  {
   "cell_type": "markdown",
   "metadata": {},
   "source": [
    "t0, laz = generate_laz_download_info(productcode, site, date)\n",
    "\n",
    "results = []\n",
    "for f in laz:\n",
    "    results.append(delayed(download_from_NEON_API)(f, data_path))\n",
    "    \n",
    "with ProgressBar():\n",
    "    computed = compute(*results)"
   ]
  },
  {
   "cell_type": "code",
   "execution_count": 22,
   "metadata": {},
   "outputs": [],
   "source": [
    "\n",
    "f = os.path.join(data_path, laz[0]['name'])\n",
    "\n",
    "cmd = f'pdal info {f}'\n",
    "reply = subprocess.run(cmd, shell=True, capture_output=True)\n",
    "meta = json.loads(reply.stdout)\n",
    "bbox = meta['stats']['bbox']['native']['bbox']\n",
    "bounds = ([bbox['minx'], bbox['maxx']], [bbox['miny'], bbox['maxy']])"
   ]
  },
  {
   "cell_type": "code",
   "execution_count": 32,
   "metadata": {},
   "outputs": [],
   "source": [
    "bbox = meta['stats']['bbox']['native']['bbox']\n",
    "bounds = ([bbox['minx'], bbox['maxx']], [bbox['miny'], bbox['maxy']])"
   ]
  },
  {
   "cell_type": "code",
   "execution_count": 47,
   "metadata": {},
   "outputs": [
    {
     "data": {
      "text/plain": [
       "{'file_size': 53867890,\n",
       " 'filename': '/home/jovyan/tmp/NEON_D17_TEAK_DP1_320000_4104000_classified_point_cloud_colorized.laz',\n",
       " 'now': '2021-02-15T23:11:17+0000',\n",
       " 'pdal_version': '2.2.0 (git-version: 47145b)',\n",
       " 'reader': 'readers.las',\n",
       " 'stats': {'bbox': {'EPSG:4326': {'bbox': {'maxx': -119.0133828,\n",
       "     'maxy': 37.07419704,\n",
       "     'maxz': 3666.787,\n",
       "     'minx': -119.0248639,\n",
       "     'miny': 37.06499689,\n",
       "     'minz': 1655.367},\n",
       "    'boundary': {'type': 'Polygon',\n",
       "     'coordinates': [[[-119.02462432721693, 37.064996894266606, 1655.367],\n",
       "       [-119.02486390208087, 37.074005565812065, 1655.367],\n",
       "       [-119.01362101426926, 37.07419704274282, 3666.7870000000003],\n",
       "       [-119.01338276742766, 37.065188309000625, 3666.7870000000003],\n",
       "       [-119.02462432721693, 37.064996894266606, 1655.367]]]}},\n",
       "   'native': {'bbox': {'maxx': 320999.999,\n",
       "     'maxy': 4104999.999,\n",
       "     'maxz': 3666.787,\n",
       "     'minx': 320000,\n",
       "     'miny': 4104000,\n",
       "     'minz': 1655.367},\n",
       "    'boundary': {'type': 'Polygon',\n",
       "     'coordinates': [[[320000.0, 4104000.0, 1655.367],\n",
       "       [320000.0, 4104999.999, 1655.367],\n",
       "       [320999.999, 4104999.999, 3666.7870000000003],\n",
       "       [320999.999, 4104000.0, 3666.7870000000003],\n",
       "       [320000.0, 4104000.0, 1655.367]]]}}},\n",
       "  'statistic': [{'average': 320494.5429,\n",
       "    'count': 6602167,\n",
       "    'maximum': 320999.999,\n",
       "    'minimum': 320000,\n",
       "    'name': 'X',\n",
       "    'position': 0,\n",
       "    'stddev': 301.7887771,\n",
       "    'variance': 91076.46595},\n",
       "   {'average': 4104502.847,\n",
       "    'count': 6602167,\n",
       "    'maximum': 4104999.999,\n",
       "    'minimum': 4104000,\n",
       "    'name': 'Y',\n",
       "    'position': 1,\n",
       "    'stddev': 286.543898,\n",
       "    'variance': 82107.4055},\n",
       "   {'average': 2731.468324,\n",
       "    'count': 6602167,\n",
       "    'maximum': 3666.787,\n",
       "    'minimum': 1655.367,\n",
       "    'name': 'Z',\n",
       "    'position': 2,\n",
       "    'stddev': 53.20793141,\n",
       "    'variance': 2831.083965},\n",
       "   {'average': 17.97691803,\n",
       "    'count': 6602167,\n",
       "    'maximum': 1280,\n",
       "    'minimum': 1,\n",
       "    'name': 'Intensity',\n",
       "    'position': 3,\n",
       "    'stddev': 10.73228831,\n",
       "    'variance': 115.1820123},\n",
       "   {'average': 1.345066097,\n",
       "    'count': 6602167,\n",
       "    'maximum': 4,\n",
       "    'minimum': 1,\n",
       "    'name': 'ReturnNumber',\n",
       "    'position': 4,\n",
       "    'stddev': 0.6358402029,\n",
       "    'variance': 0.4042927637},\n",
       "   {'average': 1.689778826,\n",
       "    'count': 6602167,\n",
       "    'maximum': 4,\n",
       "    'minimum': 1,\n",
       "    'name': 'NumberOfReturns',\n",
       "    'position': 5,\n",
       "    'stddev': 0.8651091209,\n",
       "    'variance': 0.7484137911},\n",
       "   {'average': 0.505066594,\n",
       "    'count': 6602167,\n",
       "    'maximum': 1,\n",
       "    'minimum': 0,\n",
       "    'name': 'ScanDirectionFlag',\n",
       "    'position': 6,\n",
       "    'stddev': 0.4999743668,\n",
       "    'variance': 0.2499743675},\n",
       "   {'average': 0.001519349632,\n",
       "    'count': 6602167,\n",
       "    'maximum': 1,\n",
       "    'minimum': 0,\n",
       "    'name': 'EdgeOfFlightLine',\n",
       "    'position': 7,\n",
       "    'stddev': 0.03894921614,\n",
       "    'variance': 0.001517041438},\n",
       "   {'average': 3.052736624,\n",
       "    'count': 6602167,\n",
       "    'maximum': 7,\n",
       "    'minimum': 1,\n",
       "    'name': 'Classification',\n",
       "    'position': 8,\n",
       "    'stddev': 1.522332176,\n",
       "    'variance': 2.317495254},\n",
       "   {'average': 1.461334135,\n",
       "    'count': 6602167,\n",
       "    'maximum': 22,\n",
       "    'minimum': -21,\n",
       "    'name': 'ScanAngleRank',\n",
       "    'position': 9,\n",
       "    'stddev': 11.54871518,\n",
       "    'variance': 133.3728224},\n",
       "   {'average': 53.41931975,\n",
       "    'count': 6602167,\n",
       "    'maximum': 255,\n",
       "    'minimum': 0,\n",
       "    'name': 'UserData',\n",
       "    'position': 10,\n",
       "    'stddev': 79.60373998,\n",
       "    'variance': 6336.755418},\n",
       "   {'average': 58.43735095,\n",
       "    'count': 6602167,\n",
       "    'maximum': 61,\n",
       "    'minimum': 40,\n",
       "    'name': 'PointSourceId',\n",
       "    'position': 11,\n",
       "    'stddev': 4.480096903,\n",
       "    'variance': 20.07126826},\n",
       "   {'average': 45580.24938,\n",
       "    'count': 6602167,\n",
       "    'maximum': 65280,\n",
       "    'minimum': 6400,\n",
       "    'name': 'Red',\n",
       "    'position': 12,\n",
       "    'stddev': 13375.74691,\n",
       "    'variance': 178910605.5},\n",
       "   {'average': 38916.86551,\n",
       "    'count': 6602167,\n",
       "    'maximum': 65280,\n",
       "    'minimum': 2816,\n",
       "    'name': 'Green',\n",
       "    'position': 13,\n",
       "    'stddev': 11561.54021,\n",
       "    'variance': 133669212.1},\n",
       "   {'average': 33291.76081,\n",
       "    'count': 6602167,\n",
       "    'maximum': 65280,\n",
       "    'minimum': 3584,\n",
       "    'name': 'Blue',\n",
       "    'position': 14,\n",
       "    'stddev': 11005.08875,\n",
       "    'variance': 121111978.4},\n",
       "   {'average': 508180.1584,\n",
       "    'count': 6602167,\n",
       "    'maximum': 580925.513,\n",
       "    'minimum': 502934.79,\n",
       "    'name': 'GpsTime',\n",
       "    'position': 15,\n",
       "    'stddev': 17161.97341,\n",
       "    'variance': 294533331.3}]}}"
      ]
     },
     "execution_count": 47,
     "metadata": {},
     "output_type": "execute_result"
    }
   ],
   "source": [
    "meta"
   ]
  },
  {
   "cell_type": "code",
   "execution_count": 39,
   "metadata": {},
   "outputs": [],
   "source": [
    "@dataclass\n",
    "class las_tile_index(dict):\n",
    "    '''Indexes las or laz tiles for easy retireval of points'''\n",
    "    \n",
    "    def fetch(loc, window):\n",
    "        pass"
   ]
  },
  {
   "cell_type": "markdown",
   "metadata": {},
   "source": [
    "The local coordinate system for the laz files at TEAK are UTM11  (this was not easy to determine, I found it here https://www.neonscience.org/field-sites/teak)."
   ]
  },
  {
   "cell_type": "code",
   "execution_count": 42,
   "metadata": {},
   "outputs": [],
   "source": [
    "cmd = f'entwine build -i {data_path}/*.laz -o ept_phili --srs \"EPSG:32651\"'"
   ]
  },
  {
   "cell_type": "code",
   "execution_count": 43,
   "metadata": {},
   "outputs": [
    {
     "data": {
      "text/plain": [
       "'entwine build -i /home/jovyan/tmp/*.laz -o ept_phili --srs \"EPSG:32651\"'"
      ]
     },
     "execution_count": 43,
     "metadata": {},
     "output_type": "execute_result"
    }
   ],
   "source": [
    "cmd"
   ]
  },
  {
   "cell_type": "code",
   "execution_count": null,
   "metadata": {},
   "outputs": [],
   "source": []
  }
 ],
 "metadata": {
  "kernelspec": {
   "display_name": "Python 3",
   "language": "python",
   "name": "python3"
  },
  "language_info": {
   "codemirror_mode": {
    "name": "ipython",
    "version": 3
   },
   "file_extension": ".py",
   "mimetype": "text/x-python",
   "name": "python",
   "nbconvert_exporter": "python",
   "pygments_lexer": "ipython3",
   "version": "3.8.6"
  }
 },
 "nbformat": 4,
 "nbformat_minor": 4
}
